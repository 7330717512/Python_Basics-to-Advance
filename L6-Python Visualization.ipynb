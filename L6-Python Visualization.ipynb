{
 "cells": [
  {
   "cell_type": "code",
   "execution_count": null,
   "metadata": {},
   "outputs": [],
   "source": [
    "!pip install matplotlib"
   ]
  },
  {
   "cell_type": "code",
   "execution_count": null,
   "metadata": {},
   "outputs": [],
   "source": [
    "import matplotlib\n",
    "import matplotlib.pyplot as plt"
   ]
  },
  {
   "cell_type": "code",
   "execution_count": null,
   "metadata": {},
   "outputs": [],
   "source": [
    "print(matplotlib.__version__)"
   ]
  },
  {
   "cell_type": "raw",
   "metadata": {},
   "source": [
    "Matplotlib comes with a wide variety of plots. Plots helps to understand trends, patterns, and to make correlations. They’re typically instruments for reasoning about quantitative information"
   ]
  },
  {
   "cell_type": "code",
   "execution_count": null,
   "metadata": {},
   "outputs": [],
   "source": [
    "# Simple Example\n",
    "\n",
    "# x-axis values \n",
    "x = [5, 2, 9, 4, 7] \n",
    "  \n",
    "# Y-axis values \n",
    "y = [10, 5, 8, 4, 2] \n",
    "  \n",
    "# Function to plot \n",
    "plt.plot(x,y)\n",
    "  \n",
    "# function to show the plot \n",
    "plt.show() "
   ]
  },
  {
   "cell_type": "code",
   "execution_count": null,
   "metadata": {},
   "outputs": [],
   "source": [
    "# BAR Plot\n",
    "\n",
    "# x-axis values \n",
    "x = [5, 2, 9, 4, 7] \n",
    "  \n",
    "# Y-axis values \n",
    "y = [10, 5, 8, 4, 2] \n",
    "  \n",
    "# Function to plot the bar \n",
    "plt.bar(x,y,color = \"red\") \n",
    "  \n",
    "# function to show the plot \n",
    "plt.show()"
   ]
  },
  {
   "cell_type": "code",
   "execution_count": null,
   "metadata": {},
   "outputs": [],
   "source": [
    "#Horizontal Bar Plot\n",
    "\n",
    "x_values = [5,6,3,7,2]\n",
    "y_val = [\"A\", \"B\", \"C\", \"D\", \"E\"]\n",
    "\n",
    "# Adding an \"h\" after bar will flip the graph\n",
    "plt.barh(y_val,x_values, color =\"yellowgreen\")\n",
    "plt.show()"
   ]
  },
  {
   "cell_type": "code",
   "execution_count": null,
   "metadata": {},
   "outputs": [],
   "source": [
    "#create data for plotting\n",
    "#Scatter plot\n",
    "\n",
    "x_values = [0,1,2,3,4,5]\n",
    "squares = [0,1,4,9,16,25]\n",
    "\n",
    "#The s stands for size, and it allows us to control how big we want the points on the graph.\n",
    "plt.scatter(x_values,squares, s=1000, color = \"Blue\")\n",
    "plt.show()"
   ]
  },
  {
   "cell_type": "code",
   "execution_count": null,
   "metadata": {},
   "outputs": [],
   "source": [
    "#Histograms Examples\n",
    "\n",
    "#generate fake data\n",
    "x = [2,1,6,4,2,4,8,9,4,2,4,10,6,4,5,7,7,3,2,7,5,3,5,9,2,1]\n",
    "\n",
    "#plot for a histogram\n",
    "plt.hist(x, bins = 10, color='blue', alpha=0.1)\n",
    "plt.show()"
   ]
  },
  {
   "cell_type": "raw",
   "metadata": {},
   "source": [
    "Bins — is an argument specific to a histogram and allows the user to customize how many bins they want.\n",
    "Alpha — is an argument that displays the level of transparency of the data points."
   ]
  },
  {
   "cell_type": "code",
   "execution_count": null,
   "metadata": {},
   "outputs": [],
   "source": [
    "plt.hist(x, bins= 4, color='blue', alpha=1)\n",
    "plt.show()"
   ]
  },
  {
   "cell_type": "code",
   "execution_count": null,
   "metadata": {},
   "outputs": [],
   "source": [
    "# Examples from Dataframes\n",
    "import pandas as pd\n",
    "\n",
    "data = pd.read_csv(\"C://Users//punit.shah1//Downloads//Datasets/bank.csv\")\n",
    "data.head()"
   ]
  },
  {
   "cell_type": "code",
   "execution_count": null,
   "metadata": {},
   "outputs": [],
   "source": [
    "data.plot.scatter(x='age',y='balance')\n",
    "plt.title(\"Balance Distribution with Age\")"
   ]
  },
  {
   "cell_type": "code",
   "execution_count": null,
   "metadata": {},
   "outputs": [],
   "source": [
    "plt.scatter(x=data['age'],y=data['balance'])"
   ]
  },
  {
   "cell_type": "code",
   "execution_count": null,
   "metadata": {},
   "outputs": [],
   "source": [
    "# Example of Multiple Graphs\n",
    "# Subplots\n",
    "\n",
    "# First Graph\n",
    "plt.subplot(3,1,1)\n",
    "plt.title(\"Age Distribution\")\n",
    "plt.hist(data['age'],color='red')\n",
    "\n",
    "# Second Graph\n",
    "plt.subplot(3,1,2)\n",
    "plt.title(\"Balance Distribution\")\n",
    "plt.hist(data['balance'],color='blue')\n",
    "plt.tight_layout()\n"
   ]
  },
  {
   "cell_type": "code",
   "execution_count": null,
   "metadata": {},
   "outputs": [],
   "source": [
    "# Grid Values\n",
    "\n",
    "import numpy as np\n",
    "\n",
    "fig, axes = plt.subplots(1,3, figsize = (12,4))\n",
    "x = np.arange(1,11)\n",
    "\n",
    "axes[0].plot(x, x**3, 'g',lw=2)\n",
    "axes[0].grid(True)\n",
    "axes[0].set_title('default grid')\n",
    "\n",
    "axes[1].plot(x, np.exp(x), 'r')\n",
    "axes[1].grid(color='b', ls = '-.', alpha = 1)\n",
    "axes[1].set_title('custom grid')\n",
    "\n",
    "axes[2].plot(x,x)\n",
    "axes[2].grid(False)\n",
    "axes[2].set_title('no grid')\n",
    "\n",
    "fig.tight_layout()\n",
    "plt.show()"
   ]
  },
  {
   "cell_type": "code",
   "execution_count": null,
   "metadata": {},
   "outputs": [],
   "source": [
    "# It returns number of plots\n",
    "# First element is number of rows and second element is number of columns\n",
    "f, x = plt.subplots(2,3, figsize = (12,4))"
   ]
  },
  {
   "cell_type": "code",
   "execution_count": null,
   "metadata": {},
   "outputs": [],
   "source": [
    "f"
   ]
  },
  {
   "cell_type": "code",
   "execution_count": null,
   "metadata": {},
   "outputs": [],
   "source": [
    "x"
   ]
  },
  {
   "cell_type": "code",
   "execution_count": null,
   "metadata": {},
   "outputs": [],
   "source": [
    "# Setting up axes and applying limits\n",
    "\n",
    "fig = plt.figure()\n",
    "a1 = fig.add_axes([0,0,1,1])\n",
    "\n",
    "x = np.arange(1,10)\n",
    "a1.plot(x, np.exp(x),'r')\n",
    "a1.set_title('exp')\n",
    "a1.set_ylim(0,10000)\n",
    "a1.set_xlim(0,10)\n",
    "\n",
    "plt.show()"
   ]
  },
  {
   "cell_type": "code",
   "execution_count": null,
   "metadata": {},
   "outputs": [],
   "source": [
    "# evenly sampled time at 200ms intervals\n",
    "t = np.arange(0., 5., 0.2)\n",
    "\n",
    "# red dashes, blue squares and green triangles\n",
    "plt.plot(t, t, 'r*', t, t**2, 'bs', t, t**3, 'g^')\n",
    "plt.show()"
   ]
  },
  {
   "cell_type": "code",
   "execution_count": null,
   "metadata": {},
   "outputs": [],
   "source": [
    "langs = ['C', 'C++', 'Java', 'Python', 'PHP']\n",
    "students = [23,17,35,29,12]\n",
    "plt.pie(students,\n",
    "        labels=langs,\n",
    "        autopct='%1.1f%%')\n",
    "plt.title('Pie Chart')\n",
    "plt.show()"
   ]
  },
  {
   "cell_type": "raw",
   "metadata": {},
   "source": [
    "Autopct\tstring, used to label the wedges with their numeric value. The label will be placed inside the wedge. \n",
    "The format string will be fmt%pct."
   ]
  },
  {
   "cell_type": "code",
   "execution_count": null,
   "metadata": {},
   "outputs": [],
   "source": [
    "my_explode = (0, 0.1, 0.4,0,0)\n",
    "langs = ['C', 'C++', 'Java', 'Python', 'PHP']\n",
    "students = [23,17,35,29,12]\n",
    "plt.pie(students,\n",
    "        labels=langs,\n",
    "        autopct='%1.1f%%',\n",
    "        shadow=True,\n",
    "        explode=my_explode)\n",
    "plt.title('Pie Chart')\n",
    "plt.show()"
   ]
  },
  {
   "cell_type": "code",
   "execution_count": null,
   "metadata": {},
   "outputs": [],
   "source": [
    "data.boxplot(column='balance')"
   ]
  },
  {
   "cell_type": "code",
   "execution_count": null,
   "metadata": {},
   "outputs": [],
   "source": [
    "data.boxplot(column='age',by='housing')"
   ]
  },
  {
   "cell_type": "code",
   "execution_count": null,
   "metadata": {},
   "outputs": [],
   "source": [
    "data.describe()"
   ]
  },
  {
   "cell_type": "code",
   "execution_count": null,
   "metadata": {},
   "outputs": [],
   "source": [
    "# Another Example of BoxPlot\n",
    "# Below ones are created with 3 elements.\n",
    "\n",
    "#First is Mean\n",
    "#Second is standard deviation\n",
    "#Third is total elements\n",
    "\n",
    "\n",
    "collectn_1 = np.random.normal(100, 10, 200)\n",
    "collectn_2 = np.random.normal(80, 30, 200)\n",
    "collectn_3 = np.random.normal(90, 20, 200)\n",
    "collectn_4 = np.random.normal(70, 25, 200)"
   ]
  },
  {
   "cell_type": "code",
   "execution_count": null,
   "metadata": {},
   "outputs": [],
   "source": [
    "plt.boxplot([collectn_1,collectn_2,collectn_3,collectn_4])\n",
    "plt.xlabel(\"Samples\")\n",
    "plt.ylabel(\"Values\")\n",
    "plt.title(\"Boxplot Sample\")\n",
    "plt.show()"
   ]
  },
  {
   "cell_type": "code",
   "execution_count": null,
   "metadata": {},
   "outputs": [],
   "source": [
    "#Violin Plot Example"
   ]
  },
  {
   "cell_type": "raw",
   "metadata": {},
   "source": [
    "Violin plots are similar to box plots, except that they also show the probability density of the data at different values. "
   ]
  },
  {
   "cell_type": "code",
   "execution_count": null,
   "metadata": {},
   "outputs": [],
   "source": [
    "collectn_1 = np.random.normal(100, 10, 200)\n",
    "collectn_2 = np.random.normal(80, 30, 200)\n",
    "collectn_3 = np.random.normal(90, 20, 200)\n",
    "collectn_4 = np.random.normal(70, 25, 200)\n",
    "\n",
    "## combine these different collections into a list\n",
    "data_to_plot = [collectn_1, collectn_2, collectn_3, collectn_4]"
   ]
  },
  {
   "cell_type": "code",
   "execution_count": null,
   "metadata": {},
   "outputs": [],
   "source": [
    "plt.violinplot(data_to_plot)\n",
    "plt.show()"
   ]
  },
  {
   "cell_type": "markdown",
   "metadata": {},
   "source": [
    "# Seaborn Examples"
   ]
  },
  {
   "cell_type": "code",
   "execution_count": null,
   "metadata": {},
   "outputs": [],
   "source": [
    "!pip install seaborn"
   ]
  },
  {
   "cell_type": "code",
   "execution_count": null,
   "metadata": {},
   "outputs": [],
   "source": [
    "import seaborn as sns"
   ]
  },
  {
   "cell_type": "code",
   "execution_count": null,
   "metadata": {},
   "outputs": [],
   "source": [
    "rng = np.random.RandomState(0)\n",
    "x = np.linspace(0, 10, 500)\n",
    "y = np.cumsum(rng.randn(500, 6), 0)"
   ]
  },
  {
   "cell_type": "code",
   "execution_count": null,
   "metadata": {},
   "outputs": [],
   "source": [
    "tips = sns.load_dataset(\"tips\")"
   ]
  },
  {
   "cell_type": "code",
   "execution_count": null,
   "metadata": {},
   "outputs": [],
   "source": [
    "tips.head()"
   ]
  },
  {
   "cell_type": "code",
   "execution_count": null,
   "metadata": {},
   "outputs": [],
   "source": [
    "sns.distplot(tips['tip'])"
   ]
  },
  {
   "cell_type": "code",
   "execution_count": null,
   "metadata": {},
   "outputs": [],
   "source": [
    "#kernel density estimation plot\n",
    "#Better alternative to histogram as you can see data skewnesss\n",
    "\n",
    "sns.kdeplot(tips['tip'],shade=True)"
   ]
  },
  {
   "cell_type": "code",
   "execution_count": null,
   "metadata": {},
   "outputs": [],
   "source": [
    "#Shwos the distribution of two parameter together\n",
    "sns.jointplot(tips[\"total_bill\"],tips[\"tip\"])"
   ]
  },
  {
   "cell_type": "code",
   "execution_count": null,
   "metadata": {},
   "outputs": [],
   "source": [
    "#Runs regression line with two parameter\n",
    "sns.jointplot(tips[\"total_bill\"],tips[\"tip\"],kind='reg')"
   ]
  },
  {
   "cell_type": "code",
   "execution_count": null,
   "metadata": {},
   "outputs": [],
   "source": [
    "#Shwos the distribution of two parameter together\n",
    "sns.jointplot(tips[\"total_bill\"],tips[\"tip\"],kind='kde')"
   ]
  },
  {
   "cell_type": "code",
   "execution_count": null,
   "metadata": {},
   "outputs": [],
   "source": [
    "iris = sns.load_dataset(\"iris\")\n",
    "iris.head()"
   ]
  },
  {
   "cell_type": "code",
   "execution_count": null,
   "metadata": {},
   "outputs": [],
   "source": [
    "#Visualizing the multidimensional relationships among fetures\n",
    "#Pair plots are extension to join plots\n",
    "\n",
    "# In seaborn, the hue parameter determines which column in the data frame should be used for colour encoding. \n",
    "\n",
    "sns.pairplot(iris, height=2.5,hue=\"species\")"
   ]
  },
  {
   "cell_type": "code",
   "execution_count": null,
   "metadata": {},
   "outputs": [],
   "source": [
    "# Bar Plots\n",
    "sns.barplot(x='sex',y='tip',data=tips,hue=)"
   ]
  },
  {
   "cell_type": "code",
   "execution_count": null,
   "metadata": {},
   "outputs": [],
   "source": [
    "# Swarm Plot\n",
    "iris.head()"
   ]
  },
  {
   "cell_type": "code",
   "execution_count": null,
   "metadata": {},
   "outputs": [],
   "source": [
    "#Swarm plot helps understand data distritbutuon\n",
    "\n",
    "sns.swarmplot(x = 'species', y = 'sepal_length', data = iris)\n",
    "plt.title(\"Swarm Graph\")"
   ]
  },
  {
   "cell_type": "code",
   "execution_count": null,
   "metadata": {},
   "outputs": [],
   "source": [
    "#Violin plot again shows how data is distributed and helps in determining outlier. \n",
    "#Hue helps us understand data in more detil\n",
    "\n",
    "sns.violinplot('sex','tip',data=tips,hue='time')"
   ]
  },
  {
   "cell_type": "code",
   "execution_count": null,
   "metadata": {},
   "outputs": [],
   "source": [
    "# Heatmap\n",
    "\n",
    "#The heatmap is a way of representing the data in a 2-dimensional form. \n",
    "#The data values are represented as colors in the graph. \n",
    "#The goal of the heatmap is to provide a colored visual summary of information."
   ]
  },
  {
   "cell_type": "code",
   "execution_count": null,
   "metadata": {},
   "outputs": [],
   "source": [
    "# Bank CSV\n",
    "data.head()"
   ]
  },
  {
   "cell_type": "code",
   "execution_count": null,
   "metadata": {},
   "outputs": [],
   "source": [
    "plt.figure(figsize=(12,5))\n",
    "sns.heatmap(data.corr(),\n",
    "            yticklabels=True,\n",
    "            cbar=True,\n",
    "            #cmap='coolwarm',\n",
    "            cmap='YlGnBu',\n",
    "            annot=True,\n",
    "            linewidths=0,\n",
    "            linecolor='grey')"
   ]
  },
  {
   "cell_type": "code",
   "execution_count": null,
   "metadata": {},
   "outputs": [],
   "source": [
    "plt.figure(figsize=(12,5))\n",
    "sns.heatmap(data.isna(),\n",
    "            yticklabels=True,\n",
    "            cbar=True,\n",
    "            #cmap='coolwarm',\n",
    "            cmap='YlGnBu',\n",
    "            annot=True,\n",
    "            linewidths=0,\n",
    "            linecolor='grey')"
   ]
  },
  {
   "cell_type": "code",
   "execution_count": null,
   "metadata": {},
   "outputs": [],
   "source": [
    "# Box Plot in seaborn\n",
    "sns.boxplot(x='day',y='tip',data=tips)"
   ]
  },
  {
   "cell_type": "code",
   "execution_count": null,
   "metadata": {},
   "outputs": [],
   "source": [
    "# Box Plot in seaborn\n",
    "sns.boxplot(x='day',y='tip',data=tips,hue='sex')"
   ]
  },
  {
   "cell_type": "code",
   "execution_count": null,
   "metadata": {},
   "outputs": [],
   "source": [
    "#Relation Plot \n",
    "# It uses extra keywords to use maximum datapoints in graph.\n",
    "\n",
    "sns.relplot(x=\"total_bill\", y=\"tip\", col=\"time\",\n",
    "            hue=\"size\", style=\"smoker\", size=\"size\",\n",
    "            palette=\"YlGnBu\", markers=[\"D\", \"o\"], sizes=(10, 125),\n",
    "            edgecolor=\".2\", linewidth=.5, alpha=.75,\n",
    "            data=tips);"
   ]
  },
  {
   "cell_type": "code",
   "execution_count": null,
   "metadata": {},
   "outputs": [],
   "source": [
    "# SNS Scatter Plot\n",
    "tips.head()"
   ]
  },
  {
   "cell_type": "code",
   "execution_count": null,
   "metadata": {},
   "outputs": [],
   "source": [
    "sns.scatterplot(x='total_bill',y='tip',data=tips)"
   ]
  },
  {
   "cell_type": "code",
   "execution_count": null,
   "metadata": {},
   "outputs": [],
   "source": [
    "# Adding HUE\n",
    "plt.figure(figsize=(10,5))\n",
    "sns.scatterplot(x='total_bill',\n",
    "                y='tip',\n",
    "                hue='sex',\n",
    "                data=tips)"
   ]
  },
  {
   "cell_type": "code",
   "execution_count": null,
   "metadata": {},
   "outputs": [],
   "source": [
    "!pip install plotly\n",
    "import plotly as pl"
   ]
  },
  {
   "cell_type": "code",
   "execution_count": null,
   "metadata": {},
   "outputs": [],
   "source": [
    "# Adding size\n",
    "plt.figure(figsize=(10,5))\n",
    "plt.style.use('seaborn')\n",
    "sns.scatterplot(x='total_bill',\n",
    "                y='tip',\n",
    "                hue='sex',\n",
    "                size='smoker',\n",
    "                data=tips)"
   ]
  },
  {
   "cell_type": "code",
   "execution_count": null,
   "metadata": {},
   "outputs": [],
   "source": [
    "plt.style.available"
   ]
  },
  {
   "cell_type": "code",
   "execution_count": null,
   "metadata": {},
   "outputs": [],
   "source": [
    "# Making it dark\n",
    "plt.figure(figsize=(10,5))\n",
    "plt.style.use('seaborn-deep')\n",
    "sns.scatterplot(x='total_bill',\n",
    "                y='tip',\n",
    "                hue='sex',\n",
    "                size='smoker',\n",
    "                palette='inferno',\n",
    "                data=tips)"
   ]
  },
  {
   "cell_type": "code",
   "execution_count": null,
   "metadata": {},
   "outputs": [],
   "source": [
    "# Adding regression\n",
    "plt.figure(figsize=(10,5))\n",
    "sns.regplot(x='total_bill',\n",
    "                y='tip',\n",
    "                data=tips)"
   ]
  },
  {
   "cell_type": "code",
   "execution_count": 1,
   "metadata": {},
   "outputs": [],
   "source": [
    "import re"
   ]
  },
  {
   "cell_type": "code",
   "execution_count": 11,
   "metadata": {},
   "outputs": [],
   "source": [
    "text = \"My name is Punit and my mobile number is 909132429090 and I can also be reached at abc@xyzcom\""
   ]
  },
  {
   "cell_type": "code",
   "execution_count": 9,
   "metadata": {},
   "outputs": [
    {
     "data": {
      "text/plain": [
       "['9091324290']"
      ]
     },
     "execution_count": 9,
     "metadata": {},
     "output_type": "execute_result"
    }
   ],
   "source": [
    "re.findall(r'[0-9]{10}',text)"
   ]
  },
  {
   "cell_type": "code",
   "execution_count": 7,
   "metadata": {},
   "outputs": [
    {
     "data": {
      "text/plain": [
       "['9', '0', '9', '1', '3', '2', '4', '2', '9', '0', '9', '0']"
      ]
     },
     "execution_count": 7,
     "metadata": {},
     "output_type": "execute_result"
    }
   ],
   "source": [
    "re.findall(r'[\\d]',text)"
   ]
  },
  {
   "cell_type": "code",
   "execution_count": 8,
   "metadata": {},
   "outputs": [
    {
     "data": {
      "text/plain": [
       "['909132429090']"
      ]
     },
     "execution_count": 8,
     "metadata": {},
     "output_type": "execute_result"
    }
   ],
   "source": [
    "re.findall(r'[\\d]+',text)"
   ]
  },
  {
   "cell_type": "code",
   "execution_count": null,
   "metadata": {},
   "outputs": [],
   "source": [
    "re.findall(r'[a-zA-Z0-9]+',text)"
   ]
  },
  {
   "cell_type": "code",
   "execution_count": 16,
   "metadata": {},
   "outputs": [
    {
     "data": {
      "text/plain": [
       "['abc@xy']"
      ]
     },
     "execution_count": 16,
     "metadata": {},
     "output_type": "execute_result"
    }
   ],
   "source": [
    "re.findall(r'[a-zA-Z0-9_]+@[a-zA-Z0-9]+?.com',text)"
   ]
  },
  {
   "cell_type": "code",
   "execution_count": null,
   "metadata": {},
   "outputs": [],
   "source": [
    "punit01232@gmail.com\n",
    "0123punit@hotmail.com"
   ]
  }
 ],
 "metadata": {
  "kernelspec": {
   "display_name": "Python 3",
   "language": "python",
   "name": "python3"
  },
  "language_info": {
   "codemirror_mode": {
    "name": "ipython",
    "version": 3
   },
   "file_extension": ".py",
   "mimetype": "text/x-python",
   "name": "python",
   "nbconvert_exporter": "python",
   "pygments_lexer": "ipython3",
   "version": "3.8.3"
  }
 },
 "nbformat": 4,
 "nbformat_minor": 4
}

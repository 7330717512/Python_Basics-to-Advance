{
 "cells": [
  {
   "cell_type": "markdown",
   "metadata": {},
   "source": [
    "# Variable Example"
   ]
  },
  {
   "cell_type": "code",
   "execution_count": 1,
   "metadata": {},
   "outputs": [
    {
     "name": "stdout",
     "output_type": "stream",
     "text": [
      "100\n",
      "Beginners Book\n"
     ]
    }
   ],
   "source": [
    "num = 100\n",
    "str = \"Beginners Book\"\n",
    "print(num)\n",
    "print(str)"
   ]
  },
  {
   "cell_type": "code",
   "execution_count": 2,
   "metadata": {},
   "outputs": [
    {
     "name": "stdout",
     "output_type": "stream",
     "text": [
      "This is temp string\n"
     ]
    }
   ],
   "source": [
    "_temp = \"This is temp string\"\n",
    "print(_temp)"
   ]
  },
  {
   "cell_type": "code",
   "execution_count": 3,
   "metadata": {},
   "outputs": [
    {
     "ename": "SyntaxError",
     "evalue": "can't assign to literal (<ipython-input-3-331b0c5f4a3d>, line 1)",
     "output_type": "error",
     "traceback": [
      "\u001b[1;36m  File \u001b[1;32m\"<ipython-input-3-331b0c5f4a3d>\"\u001b[1;36m, line \u001b[1;32m1\u001b[0m\n\u001b[1;33m    9 = 100\u001b[0m\n\u001b[1;37m           ^\u001b[0m\n\u001b[1;31mSyntaxError\u001b[0m\u001b[1;31m:\u001b[0m can't assign to literal\n"
     ]
    }
   ],
   "source": [
    "9 = 100\n",
    "print(9)"
   ]
  },
  {
   "cell_type": "code",
   "execution_count": 4,
   "metadata": {},
   "outputs": [
    {
     "name": "stdout",
     "output_type": "stream",
     "text": [
      "99\n",
      "99\n",
      "99\n"
     ]
    }
   ],
   "source": [
    "# Multiple assignement\n",
    "\n",
    "x = y = z = 99\n",
    "\n",
    "print(x)\n",
    "print(y)\n",
    "print(z)"
   ]
  },
  {
   "cell_type": "code",
   "execution_count": 5,
   "metadata": {},
   "outputs": [
    {
     "name": "stdout",
     "output_type": "stream",
     "text": [
      "5\n",
      "6\n",
      "7\n"
     ]
    }
   ],
   "source": [
    "# Another example of multiple assignement\n",
    "\n",
    "a, b, c = 5, 6, 7\n",
    "\n",
    "print(a)\n",
    "print(b)\n",
    "print(c)"
   ]
  },
  {
   "cell_type": "markdown",
   "metadata": {},
   "source": [
    "# Datatypes Example"
   ]
  },
  {
   "cell_type": "code",
   "execution_count": 6,
   "metadata": {},
   "outputs": [
    {
     "data": {
      "text/plain": [
       "int"
      ]
     },
     "execution_count": 6,
     "metadata": {},
     "output_type": "execute_result"
    }
   ],
   "source": [
    "x = 10\n",
    "type(x)"
   ]
  },
  {
   "cell_type": "code",
   "execution_count": 7,
   "metadata": {},
   "outputs": [
    {
     "data": {
      "text/plain": [
       "float"
      ]
     },
     "execution_count": 7,
     "metadata": {},
     "output_type": "execute_result"
    }
   ],
   "source": [
    "y = 100.12\n",
    "type(y)"
   ]
  },
  {
   "cell_type": "code",
   "execution_count": 8,
   "metadata": {},
   "outputs": [
    {
     "data": {
      "text/plain": [
       "str"
      ]
     },
     "execution_count": 8,
     "metadata": {},
     "output_type": "execute_result"
    }
   ],
   "source": [
    "name = \"Punit Shah\"\n",
    "type(name)"
   ]
  },
  {
   "cell_type": "code",
   "execution_count": 59,
   "metadata": {},
   "outputs": [
    {
     "data": {
      "text/plain": [
       "bool"
      ]
     },
     "execution_count": 59,
     "metadata": {},
     "output_type": "execute_result"
    }
   ],
   "source": [
    "flag = True\n",
    "type(flag)"
   ]
  },
  {
   "cell_type": "code",
   "execution_count": 10,
   "metadata": {},
   "outputs": [
    {
     "data": {
      "text/plain": [
       "list"
      ]
     },
     "execution_count": 10,
     "metadata": {},
     "output_type": "execute_result"
    }
   ],
   "source": [
    "lst = [1,2,3,4,5]\n",
    "type(lst)"
   ]
  },
  {
   "cell_type": "code",
   "execution_count": 60,
   "metadata": {},
   "outputs": [
    {
     "data": {
      "text/plain": [
       "bool"
      ]
     },
     "execution_count": 60,
     "metadata": {},
     "output_type": "execute_result"
    }
   ],
   "source": [
    "flag = not False\n",
    "type(flag)\n",
    "#print(flag)"
   ]
  },
  {
   "cell_type": "code",
   "execution_count": 12,
   "metadata": {},
   "outputs": [
    {
     "data": {
      "text/plain": [
       "tuple"
      ]
     },
     "execution_count": 12,
     "metadata": {},
     "output_type": "execute_result"
    }
   ],
   "source": [
    "tup = (1,2,3,4,5)\n",
    "type(tup)"
   ]
  },
  {
   "cell_type": "markdown",
   "metadata": {},
   "source": [
    "# Mutable & Immutable Example"
   ]
  },
  {
   "cell_type": "code",
   "execution_count": 4,
   "metadata": {},
   "outputs": [
    {
     "name": "stdout",
     "output_type": "stream",
     "text": [
      "10\n",
      "12\n"
     ]
    }
   ],
   "source": [
    "x = 10\n",
    "print(x)\n",
    "x = 12\n",
    "print(x)"
   ]
  },
  {
   "cell_type": "code",
   "execution_count": 15,
   "metadata": {},
   "outputs": [
    {
     "name": "stdout",
     "output_type": "stream",
     "text": [
      "Punit\n",
      "shah\n"
     ]
    }
   ],
   "source": [
    "name = \"Punit\"\n",
    "print(name)\n",
    "name = \"shah\"\n",
    "print(name)"
   ]
  },
  {
   "cell_type": "code",
   "execution_count": 17,
   "metadata": {},
   "outputs": [
    {
     "name": "stdout",
     "output_type": "stream",
     "text": [
      "(1, 2, 3, 4, 5)\n",
      "1\n"
     ]
    },
    {
     "ename": "TypeError",
     "evalue": "'tuple' object does not support item assignment",
     "output_type": "error",
     "traceback": [
      "\u001b[1;31m---------------------------------------------------------------------------\u001b[0m",
      "\u001b[1;31mTypeError\u001b[0m                                 Traceback (most recent call last)",
      "\u001b[1;32m<ipython-input-17-efcd9a182cf6>\u001b[0m in \u001b[0;36m<module>\u001b[1;34m\u001b[0m\n\u001b[0;32m      2\u001b[0m \u001b[0mprint\u001b[0m\u001b[1;33m(\u001b[0m\u001b[0mtup\u001b[0m\u001b[1;33m)\u001b[0m\u001b[1;33m\u001b[0m\u001b[1;33m\u001b[0m\u001b[0m\n\u001b[0;32m      3\u001b[0m \u001b[0mprint\u001b[0m\u001b[1;33m(\u001b[0m\u001b[0mtup\u001b[0m\u001b[1;33m[\u001b[0m\u001b[1;36m0\u001b[0m\u001b[1;33m]\u001b[0m\u001b[1;33m)\u001b[0m\u001b[1;33m\u001b[0m\u001b[1;33m\u001b[0m\u001b[0m\n\u001b[1;32m----> 4\u001b[1;33m \u001b[0mtup\u001b[0m\u001b[1;33m[\u001b[0m\u001b[1;36m0\u001b[0m\u001b[1;33m]\u001b[0m \u001b[1;33m=\u001b[0m \u001b[1;36m100\u001b[0m\u001b[1;33m\u001b[0m\u001b[1;33m\u001b[0m\u001b[0m\n\u001b[0m",
      "\u001b[1;31mTypeError\u001b[0m: 'tuple' object does not support item assignment"
     ]
    }
   ],
   "source": [
    "tup = (1,2,3,4,5)\n",
    "print(tup)\n",
    "print(tup[0])\n",
    "tup[0] = 100"
   ]
  },
  {
   "cell_type": "code",
   "execution_count": 18,
   "metadata": {},
   "outputs": [
    {
     "name": "stdout",
     "output_type": "stream",
     "text": [
      "[1, 2, 3, 4, 5]\n",
      "1\n",
      "[100, 2, 3, 4, 5]\n"
     ]
    }
   ],
   "source": [
    "lst = [1,2,3,4,5]\n",
    "print(lst)\n",
    "print(lst[0])\n",
    "lst[0] = 100\n",
    "print(lst)"
   ]
  },
  {
   "cell_type": "code",
   "execution_count": 19,
   "metadata": {},
   "outputs": [
    {
     "name": "stdout",
     "output_type": "stream",
     "text": [
      "True\n",
      "False\n"
     ]
    }
   ],
   "source": [
    "flag = True\n",
    "print(flag)\n",
    "flag = False\n",
    "print(flag)"
   ]
  },
  {
   "cell_type": "markdown",
   "metadata": {},
   "source": [
    "# Standard Input and Output Example"
   ]
  },
  {
   "cell_type": "code",
   "execution_count": 20,
   "metadata": {},
   "outputs": [
    {
     "name": "stdout",
     "output_type": "stream",
     "text": [
      "My name is Punit Shah\n"
     ]
    }
   ],
   "source": [
    "print(\"My name is Punit Shah\")"
   ]
  },
  {
   "cell_type": "code",
   "execution_count": 5,
   "metadata": {},
   "outputs": [
    {
     "name": "stdout",
     "output_type": "stream",
     "text": [
      "I live in Mumbai\n",
      "I live in Mumbai city\n"
     ]
    }
   ],
   "source": [
    "city = \"Mumbai\"\n",
    "\n",
    "print(\"I live in\",city)\n",
    "print(\"I live in {0} city\".format(city))"
   ]
  },
  {
   "cell_type": "code",
   "execution_count": 24,
   "metadata": {},
   "outputs": [
    {
     "name": "stdout",
     "output_type": "stream",
     "text": [
      "The value of x is 12.35\n",
      "The value of x is 12.3457\n"
     ]
    }
   ],
   "source": [
    "x = 12.3456789\n",
    "print('The value of x is %3.2f' %x)\n",
    "print('The value of x is %3.4f' %x)"
   ]
  },
  {
   "cell_type": "code",
   "execution_count": 6,
   "metadata": {},
   "outputs": [
    {
     "name": "stdout",
     "output_type": "stream",
     "text": [
      "Enter a number: 100\n",
      "100\n"
     ]
    }
   ],
   "source": [
    "num = input('Enter a number: ')\n",
    "print(num)"
   ]
  },
  {
   "cell_type": "code",
   "execution_count": 7,
   "metadata": {},
   "outputs": [
    {
     "name": "stdout",
     "output_type": "stream",
     "text": [
      "Enter your name : Punit\n",
      "Hello, Punit ! How are you ?\n"
     ]
    }
   ],
   "source": [
    "name = input('Enter your name : ')\n",
    "print(\"Hello, {0} ! How are you ?\".format(name))"
   ]
  },
  {
   "cell_type": "code",
   "execution_count": 8,
   "metadata": {},
   "outputs": [
    {
     "name": "stdout",
     "output_type": "stream",
     "text": [
      "Welcome to class\n"
     ]
    }
   ],
   "source": [
    "text = open(\"C:\\\\Punit\\\\Personal\\\\Board-Infinity\\\\Python Programming\\\\L1-Python-Basics\\\\sample.txt\",\"r\")\n",
    "print(text.read())"
   ]
  },
  {
   "cell_type": "markdown",
   "metadata": {},
   "source": [
    "# Statement & Multi-Statement Example"
   ]
  },
  {
   "cell_type": "code",
   "execution_count": 33,
   "metadata": {},
   "outputs": [],
   "source": [
    "a = 1\n",
    "b = \"TEMP\""
   ]
  },
  {
   "cell_type": "code",
   "execution_count": 34,
   "metadata": {},
   "outputs": [
    {
     "name": "stdout",
     "output_type": "stream",
     "text": [
      "45\n"
     ]
    }
   ],
   "source": [
    "# Multiline Statement\n",
    "\n",
    "a = 1 + 2 + 3 + \\\n",
    "    4 + 5 + 6 + \\\n",
    "    7 + 8 + 9\n",
    "print(a)"
   ]
  },
  {
   "cell_type": "markdown",
   "metadata": {},
   "source": [
    "# Indentation Example"
   ]
  },
  {
   "cell_type": "code",
   "execution_count": 35,
   "metadata": {},
   "outputs": [
    {
     "name": "stdout",
     "output_type": "stream",
     "text": [
      "1\n",
      "2\n",
      "3\n",
      "4\n",
      "5\n"
     ]
    }
   ],
   "source": [
    "for i in range(1,11):\n",
    "    print(i)\n",
    "    if i == 5:\n",
    "        break"
   ]
  },
  {
   "cell_type": "code",
   "execution_count": 10,
   "metadata": {},
   "outputs": [
    {
     "name": "stdout",
     "output_type": "stream",
     "text": [
      "Hello\n"
     ]
    }
   ],
   "source": [
    "if True:\n",
    "    print('Hello')\n",
    "    a = 5"
   ]
  },
  {
   "cell_type": "code",
   "execution_count": 37,
   "metadata": {},
   "outputs": [
    {
     "name": "stdout",
     "output_type": "stream",
     "text": [
      "Hello\n"
     ]
    }
   ],
   "source": [
    "if True: print('Hello'); a = 5"
   ]
  },
  {
   "cell_type": "markdown",
   "metadata": {},
   "source": [
    "# Comment Example"
   ]
  },
  {
   "cell_type": "code",
   "execution_count": 39,
   "metadata": {},
   "outputs": [
    {
     "data": {
      "text/plain": [
       "'\\nThis is also comment. You dont have to write (#) here. \\n'"
      ]
     },
     "execution_count": 39,
     "metadata": {},
     "output_type": "execute_result"
    }
   ],
   "source": [
    "# This is single line commment\n",
    "\n",
    "# This is first line of comment\n",
    "# This is second line of comment\n",
    "\n",
    "\"\"\"\n",
    "This is also comment. You dont have to write (#) here. \n",
    "\"\"\""
   ]
  },
  {
   "cell_type": "markdown",
   "metadata": {},
   "source": [
    "# Data Structure - Example"
   ]
  },
  {
   "cell_type": "markdown",
   "metadata": {},
   "source": [
    "## List Example"
   ]
  },
  {
   "cell_type": "code",
   "execution_count": 41,
   "metadata": {},
   "outputs": [
    {
     "name": "stdout",
     "output_type": "stream",
     "text": [
      "[]\n",
      "[1, 2, 3, 'example', 3.132]\n"
     ]
    }
   ],
   "source": [
    "# To create a list, you use the square brackets and add elements into it accordingly. \n",
    "# If you do not pass any elements inside the square brackets, you get an empty list as the output.\n",
    "\n",
    "#create empty list\n",
    "my_list = []\n",
    "print(my_list)\n",
    "\n",
    "#creating list with data\n",
    "my_list = [1, 2, 3, 'example', 3.132] \n",
    "print(my_list)"
   ]
  },
  {
   "cell_type": "code",
   "execution_count": 11,
   "metadata": {},
   "outputs": [
    {
     "name": "stdout",
     "output_type": "stream",
     "text": [
      "[1, 2, 3]\n",
      "[1, 2, 3, 4]\n",
      "[1, 2, 3, 4, 234, 'more_example']\n",
      "[1, 'insert_example', 2, 3, 4, 234, 'more_example']\n"
     ]
    }
   ],
   "source": [
    "# Adding Element in List\n",
    "\n",
    "my_list = [1, 2, 3]\n",
    "print(my_list)\n",
    "\n",
    "#add as a single element\n",
    "my_list.append(4) \n",
    "print(my_list)\n",
    "\n",
    "#add as different elements\n",
    "my_list.extend([234, 'more_example']) \n",
    "print(my_list)\n",
    "\n",
    "#add element i\n",
    "my_list.insert(1, 'insert_example') \n",
    "print(my_list)"
   ]
  },
  {
   "cell_type": "code",
   "execution_count": 43,
   "metadata": {},
   "outputs": [
    {
     "name": "stdout",
     "output_type": "stream",
     "text": [
      "[1, 2, 3, 'example', 3.132, 30]\n",
      "[1, 2, 3, 3.132, 30]\n",
      "Popped Element:  2  List remaining:  [1, 3, 3.132, 30]\n",
      "[]\n"
     ]
    }
   ],
   "source": [
    "# Deleting Elements\n",
    "\n",
    "my_list = [1, 2, 3, 'example', 3.132, 10, 30,'example']\n",
    "\n",
    "#delete element at index 5\n",
    "del my_list[5]\n",
    "print(my_list)\n",
    "\n",
    "#remove element with value\n",
    "my_list.remove('example')\n",
    "print(my_list)\n",
    "\n",
    "#pop element from list\n",
    "a = my_list.pop(1)\n",
    "print('Popped Element: ', a, ' List remaining: ', my_list)\n",
    "\n",
    "#empty the list\n",
    "my_list.clear()\n",
    "print(my_list)"
   ]
  },
  {
   "cell_type": "code",
   "execution_count": 44,
   "metadata": {},
   "outputs": [
    {
     "name": "stdout",
     "output_type": "stream",
     "text": [
      "1\n",
      "2\n",
      "3\n",
      "example\n",
      "3.132\n",
      "10\n",
      "30\n",
      "[1, 2, 3, 'example', 3.132, 10, 30]\n",
      "example\n",
      "[1, 2]\n",
      "[30, 10, 3.132, 'example', 3, 2, 1]\n",
      "30\n"
     ]
    }
   ],
   "source": [
    "#Accessing Elements\n",
    "\n",
    "my_list = [1, 2, 3, 'example', 3.132, 10, 30]\n",
    "\n",
    "#access elements one by one\n",
    "for element in my_list:\n",
    "    print(element)\n",
    "\n",
    "#access all elements\n",
    "print(my_list)\n",
    "\n",
    "#access index 3 element\n",
    "print(my_list[3])\n",
    "\n",
    "#access elements from 0 to 1 and exclude 2\n",
    "print(my_list[0:2])\n",
    "\n",
    "#access elements in reverse\n",
    "print(my_list[::-1])\n",
    "\n",
    "#access last element\n",
    "print(my_list[-1])"
   ]
  },
  {
   "cell_type": "code",
   "execution_count": 45,
   "metadata": {},
   "outputs": [
    {
     "name": "stdout",
     "output_type": "stream",
     "text": [
      "6\n",
      "3\n",
      "2\n",
      "[1, 2, 3, 10, 10, 30]\n",
      "[30, 10, 10, 3, 2, 1]\n"
     ]
    }
   ],
   "source": [
    "# Other Functions\n",
    "\n",
    "my_list = [1, 2, 3, 10, 30, 10]\n",
    "\n",
    "#find length of list\n",
    "print(len(my_list))\n",
    "\n",
    "#find index of element that occurs first\n",
    "print(my_list.index(10))\n",
    "\n",
    "#find count of the element\n",
    "print(my_list.count(10))\n",
    "\n",
    "#print sorted list but not change original\n",
    "print(sorted(my_list))\n",
    "\n",
    "#sort original list\n",
    "my_list.sort(reverse=True)\n",
    "print(my_list)"
   ]
  },
  {
   "cell_type": "markdown",
   "metadata": {},
   "source": [
    "## Dictionary Example"
   ]
  },
  {
   "cell_type": "code",
   "execution_count": 46,
   "metadata": {},
   "outputs": [
    {
     "name": "stdout",
     "output_type": "stream",
     "text": [
      "{}\n",
      "{1: 'Python', 2: 'Java'}\n"
     ]
    }
   ],
   "source": [
    "# Creating Dict\n",
    "\n",
    "#empty dictionary\n",
    "my_dict = {}\n",
    "print(my_dict)\n",
    "\n",
    "#dictionary with elements\n",
    "my_dict = {1: 'Python', 2: 'Java'}\n",
    "print(my_dict)"
   ]
  },
  {
   "cell_type": "code",
   "execution_count": 13,
   "metadata": {},
   "outputs": [
    {
     "name": "stdout",
     "output_type": "stream",
     "text": [
      "{'First': 'Python', 'Second': 'Java'}\n",
      "{'First': 'Python', 'Second': 'C++'}\n",
      "{'First': 'Python', 'Second': 'C++', 'Third': 'Ruby'}\n",
      "{'First': 'Python', 'Second': 'C++', 'Third': 'Ruby', 'name': 'Punit'}\n"
     ]
    }
   ],
   "source": [
    "# Changing and Adding key, value pairs\n",
    "\n",
    "my_dict = {'First': 'Python', 'Second': 'Java'}\n",
    "print(my_dict)\n",
    "\n",
    "#changing element\n",
    "my_dict['Second'] = 'C++'\n",
    "print(my_dict)\n",
    "\n",
    "#adding key-value pair\n",
    "my_dict['Third'] = 'Ruby'\n",
    "print(my_dict)\n",
    "\n",
    "my_dict['name'] = \"Punit\"\n",
    "print(my_dict)"
   ]
  },
  {
   "cell_type": "code",
   "execution_count": 49,
   "metadata": {},
   "outputs": [
    {
     "name": "stdout",
     "output_type": "stream",
     "text": [
      "Value: Ruby\n",
      "Dictionary: {'First': 'Python', 'Second': 'Java'}\n",
      "Key, value pair: ('Second', 'Java')\n",
      "Dictionary {'First': 'Python'}\n",
      "n {}\n"
     ]
    }
   ],
   "source": [
    "#Deleting key, value pairs\n",
    "\n",
    "my_dict = {'First': 'Python', 'Second': 'Java', 'Third': 'Ruby'}\n",
    "\n",
    "#pop element\n",
    "a = my_dict.pop('Third')\n",
    "print('Value:', a)\n",
    "print('Dictionary:', my_dict)\n",
    "\n",
    "#pop the key-value pair\n",
    "b = my_dict.popitem()\n",
    "print('Key, value pair:', b)\n",
    "print('Dictionary', my_dict)\n",
    "\n",
    "#empty dictionary\n",
    "my_dict.clear()\n",
    "print('n', my_dict)"
   ]
  },
  {
   "cell_type": "code",
   "execution_count": 16,
   "metadata": {},
   "outputs": [
    {
     "name": "stdout",
     "output_type": "stream",
     "text": [
      "Python\n",
      "['Java', 'C++']\n",
      "Punit\n"
     ]
    }
   ],
   "source": [
    "# Accessing Elements\n",
    "\n",
    "my_dict = {'First': 'Python', 'Second': ['Java','C++'],'Third':{'Name':'Punit','Age':30}}\n",
    "\n",
    "#access elements using keys\n",
    "print(my_dict['First'])\n",
    "print(my_dict.get('Second'))\n",
    "print(my_dict['Third']['Name'])"
   ]
  },
  {
   "cell_type": "markdown",
   "metadata": {},
   "source": [
    "## Tuple Example"
   ]
  },
  {
   "cell_type": "code",
   "execution_count": 51,
   "metadata": {},
   "outputs": [
    {
     "name": "stdout",
     "output_type": "stream",
     "text": [
      "(1, 2, 3)\n"
     ]
    }
   ],
   "source": [
    "#Creating a Tuple\n",
    "\n",
    "my_tuple = (1, 2, 3) []\n",
    "print(my_tuple)"
   ]
  },
  {
   "cell_type": "code",
   "execution_count": 17,
   "metadata": {},
   "outputs": [
    {
     "name": "stdout",
     "output_type": "stream",
     "text": [
      "1\n",
      "2\n",
      "3\n",
      "edureka\n",
      "(1, 2, 3, 'edureka')\n",
      "1\n",
      "(1, 2, 3, 'edureka')\n",
      "e\n"
     ]
    },
    {
     "ename": "TypeError",
     "evalue": "'tuple' object does not support item assignment",
     "output_type": "error",
     "traceback": [
      "\u001b[1;31m---------------------------------------------------------------------------\u001b[0m",
      "\u001b[1;31mTypeError\u001b[0m                                 Traceback (most recent call last)",
      "\u001b[1;32m<ipython-input-17-6fe4a56d2ab8>\u001b[0m in \u001b[0;36m<module>\u001b[1;34m\u001b[0m\n\u001b[0;32m     12\u001b[0m \u001b[1;33m\u001b[0m\u001b[0m\n\u001b[0;32m     13\u001b[0m \u001b[1;33m\u001b[0m\u001b[0m\n\u001b[1;32m---> 14\u001b[1;33m \u001b[0mmy_tuple2\u001b[0m\u001b[1;33m[\u001b[0m\u001b[1;36m0\u001b[0m\u001b[1;33m]\u001b[0m \u001b[1;33m=\u001b[0m \u001b[1;36m100\u001b[0m\u001b[1;33m\u001b[0m\u001b[1;33m\u001b[0m\u001b[0m\n\u001b[0m",
      "\u001b[1;31mTypeError\u001b[0m: 'tuple' object does not support item assignment"
     ]
    }
   ],
   "source": [
    "#access elements\n",
    "\n",
    "my_tuple2 = (1, 2, 3, 'edureka')\n",
    "\n",
    "for x in my_tuple2:\n",
    "    print(x)\n",
    "\n",
    "print(my_tuple2)\n",
    "print(my_tuple2[0])\n",
    "print(my_tuple2[:])\n",
    "print(my_tuple2[3][4])\n",
    "\n",
    "\n",
    "my_tuple2[0] = 100"
   ]
  },
  {
   "cell_type": "markdown",
   "metadata": {},
   "source": [
    "## Set Example"
   ]
  },
  {
   "cell_type": "code",
   "execution_count": 53,
   "metadata": {},
   "outputs": [
    {
     "name": "stdout",
     "output_type": "stream",
     "text": [
      "{1, 2, 3, 4, 5}\n"
     ]
    }
   ],
   "source": [
    "#create set\n",
    "\n",
    "my_set = {1, 2, 3, 4, 5, 5, 5}\n",
    "print(my_set)"
   ]
  },
  {
   "cell_type": "code",
   "execution_count": 54,
   "metadata": {},
   "outputs": [
    {
     "name": "stdout",
     "output_type": "stream",
     "text": [
      "{1, 2, 3, 4}\n"
     ]
    }
   ],
   "source": [
    "my_set = {1, 2, 3}\n",
    "\n",
    "#add element to set\n",
    "my_set.add(4) \n",
    "print(my_set)"
   ]
  },
  {
   "cell_type": "code",
   "execution_count": 55,
   "metadata": {},
   "outputs": [
    {
     "name": "stdout",
     "output_type": "stream",
     "text": [
      "{1, 2, 3, 4, 5, 6} ---------- {1, 2, 3, 4, 5, 6}\n",
      "{3, 4} ---------- {3, 4}\n",
      "{1, 2} ---------- {1, 2}\n",
      "{1, 2, 5, 6} ---------- {1, 2, 5, 6}\n",
      "set()\n"
     ]
    }
   ],
   "source": [
    "#Operations on set\n",
    "\n",
    "my_set = {1, 2, 3, 4}\n",
    "my_set_2 = {3, 4, 5, 6}\n",
    "\n",
    "\n",
    "print(my_set.union(my_set_2), '----------', my_set | my_set_2)\n",
    "print(my_set.intersection(my_set_2), '----------', my_set & my_set_2)\n",
    "print(my_set.difference(my_set_2), '----------', my_set - my_set_2)\n",
    "print(my_set.symmetric_difference(my_set_2), '----------', my_set ^ my_set_2)\n",
    "my_set.clear()\n",
    "\n",
    "print(my_set)"
   ]
  },
  {
   "cell_type": "markdown",
   "metadata": {},
   "source": [
    "# String Examples"
   ]
  },
  {
   "cell_type": "code",
   "execution_count": 61,
   "metadata": {},
   "outputs": [
    {
     "name": "stdout",
     "output_type": "stream",
     "text": [
      "Hello Kids\n"
     ]
    }
   ],
   "source": [
    "print(\"Hello Kids\")"
   ]
  },
  {
   "cell_type": "code",
   "execution_count": 62,
   "metadata": {},
   "outputs": [
    {
     "name": "stdout",
     "output_type": "stream",
     "text": [
      "3 + 2\n"
     ]
    }
   ],
   "source": [
    "print(\"3 + 2\")"
   ]
  },
  {
   "cell_type": "code",
   "execution_count": 63,
   "metadata": {},
   "outputs": [
    {
     "data": {
      "text/plain": [
       "str"
      ]
     },
     "execution_count": 63,
     "metadata": {},
     "output_type": "execute_result"
    }
   ],
   "source": [
    "type(\"Hello Kids\")"
   ]
  },
  {
   "cell_type": "code",
   "execution_count": 66,
   "metadata": {},
   "outputs": [
    {
     "name": "stdout",
     "output_type": "stream",
     "text": [
      "HelloThere !\n",
      "Hello There !\n"
     ]
    }
   ],
   "source": [
    "#Concatenation\n",
    "\n",
    "first = \"Hello\"\n",
    "second = \"There !\"\n",
    "\n",
    "print(first + second)\n",
    "print(first + \" \" +second)"
   ]
  },
  {
   "cell_type": "code",
   "execution_count": 69,
   "metadata": {},
   "outputs": [
    {
     "name": "stdout",
     "output_type": "stream",
     "text": [
      "Hello,\n",
      "World!\n"
     ]
    }
   ],
   "source": [
    "#Accessing letters\n",
    "\n",
    "temp = \"Hello, World!\"\n",
    "print(temp[0:6])\n",
    "print(temp[-6:])"
   ]
  },
  {
   "cell_type": "code",
   "execution_count": 77,
   "metadata": {},
   "outputs": [
    {
     "name": "stdout",
     "output_type": "stream",
     "text": [
      "HELLO, WORLD    \n",
      "hello, world    \n",
      "Hello, world    \n",
      "16\n",
      "\n",
      "\n",
      "99ello, World    \n",
      "['Hello', ' World    ']\n",
      "Hello, World\n"
     ]
    }
   ],
   "source": [
    "#Operations on String\n",
    "\n",
    "temp = \"Hello, World    \"\n",
    "\n",
    "print(temp.upper())\n",
    "print(temp.lower())\n",
    "print(temp.capitalize())\n",
    "print(len(temp))\n",
    "print(\"\\n\")\n",
    "\n",
    "\n",
    "print(temp.replace(\"H\",\"99\"))\n",
    "print(temp.split(\",\"))\n",
    "print(temp.strip())"
   ]
  },
  {
   "cell_type": "code",
   "execution_count": 20,
   "metadata": {},
   "outputs": [
    {
     "name": "stdout",
     "output_type": "stream",
     "text": [
      "N\n"
     ]
    }
   ],
   "source": [
    "temp = \"punit\"\n",
    "print(temp[2].upper())"
   ]
  },
  {
   "cell_type": "code",
   "execution_count": 1,
   "metadata": {},
   "outputs": [],
   "source": [
    "import numpy as np"
   ]
  },
  {
   "cell_type": "code",
   "execution_count": null,
   "metadata": {},
   "outputs": [],
   "source": []
  },
  {
   "cell_type": "code",
   "execution_count": null,
   "metadata": {},
   "outputs": [],
   "source": []
  },
  {
   "cell_type": "code",
   "execution_count": 78,
   "metadata": {},
   "outputs": [
    {
     "name": "stdout",
     "output_type": "stream",
     "text": [
      "True\n"
     ]
    }
   ],
   "source": [
    "# Check if word is present in string\n",
    "\n",
    "txt = \"The rain in Spain stays mainly in the plain\"\n",
    "x = \"ain\" in txt\n",
    "print(x)"
   ]
  },
  {
   "cell_type": "code",
   "execution_count": null,
   "metadata": {},
   "outputs": [],
   "source": [
    "x = [] list\n",
    "x = () tuple\n",
    "x = {} Dict"
   ]
  }
 ],
 "metadata": {
  "kernelspec": {
   "display_name": "Python 3",
   "language": "python",
   "name": "python3"
  },
  "language_info": {
   "codemirror_mode": {
    "name": "ipython",
    "version": 3
   },
   "file_extension": ".py",
   "mimetype": "text/x-python",
   "name": "python",
   "nbconvert_exporter": "python",
   "pygments_lexer": "ipython3",
   "version": "3.8.3"
  }
 },
 "nbformat": 4,
 "nbformat_minor": 4
}

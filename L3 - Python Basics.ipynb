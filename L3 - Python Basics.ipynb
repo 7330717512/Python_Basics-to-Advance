{
 "cells": [
  {
   "cell_type": "markdown",
   "metadata": {},
   "source": [
    "# Function Example"
   ]
  },
  {
   "cell_type": "code",
   "execution_count": 1,
   "metadata": {},
   "outputs": [],
   "source": [
    "# Basic function\n",
    "def greet():\n",
    "    \"\"\"\n",
    "    This function prints \n",
    "    the greeting message\n",
    "    \"\"\"\n",
    "    print(\"Hello\")"
   ]
  },
  {
   "cell_type": "code",
   "execution_count": 2,
   "metadata": {},
   "outputs": [
    {
     "name": "stdout",
     "output_type": "stream",
     "text": [
      "Hello\n"
     ]
    }
   ],
   "source": [
    "# How to call the function\n",
    "greet()"
   ]
  },
  {
   "cell_type": "markdown",
   "metadata": {},
   "source": [
    "# Function with Parameters Example"
   ]
  },
  {
   "cell_type": "code",
   "execution_count": 3,
   "metadata": {},
   "outputs": [],
   "source": [
    "# Function with Parameters\n",
    "\n",
    "def greet(name):\n",
    "    \"\"\"\n",
    "    This function greets to \n",
    "    the person passed in as a parameter\n",
    "    \"\"\"\n",
    "    print(\"Hello\",name)"
   ]
  },
  {
   "cell_type": "code",
   "execution_count": 4,
   "metadata": {},
   "outputs": [
    {
     "name": "stdout",
     "output_type": "stream",
     "text": [
      "Hello Abhishek\n"
     ]
    }
   ],
   "source": [
    "# Calling the function with Parameter\n",
    "greet(\"Abhishek\")"
   ]
  },
  {
   "cell_type": "code",
   "execution_count": 5,
   "metadata": {},
   "outputs": [
    {
     "name": "stdout",
     "output_type": "stream",
     "text": [
      "Hello Everyone\n"
     ]
    }
   ],
   "source": [
    "# Calling the function with Parameter\n",
    "greet(\"Everyone\")"
   ]
  },
  {
   "cell_type": "code",
   "execution_count": 6,
   "metadata": {},
   "outputs": [],
   "source": [
    "# Always call function with exact number of arguments or we will get the Error\n",
    "\n",
    "def greet(name,greeting):\n",
    "    \"\"\"\n",
    "    This function takes name & greetings\n",
    "    and prints the same.\n",
    "    \n",
    "    This function accepts 3 paramerer wopp\n",
    "    a will ace\n",
    "    \"\"\"\n",
    "    print(\"{}, {}\".format(greeting,name))"
   ]
  },
  {
   "cell_type": "code",
   "execution_count": 7,
   "metadata": {},
   "outputs": [
    {
     "name": "stdout",
     "output_type": "stream",
     "text": [
      "Good Evening, Everyone\n"
     ]
    }
   ],
   "source": [
    "greet(name=\"Everyone\",greeting=\"Good Evening\")"
   ]
  },
  {
   "cell_type": "code",
   "execution_count": 8,
   "metadata": {},
   "outputs": [
    {
     "name": "stdout",
     "output_type": "stream",
     "text": [
      "Hello, Subhash\n"
     ]
    }
   ],
   "source": [
    "greet(\"Subhash\",\"Hello\")"
   ]
  },
  {
   "cell_type": "code",
   "execution_count": 9,
   "metadata": {},
   "outputs": [
    {
     "ename": "TypeError",
     "evalue": "greet() missing 1 required positional argument: 'greeting'",
     "output_type": "error",
     "traceback": [
      "\u001b[1;31m---------------------------------------------------------------------------\u001b[0m",
      "\u001b[1;31mTypeError\u001b[0m                                 Traceback (most recent call last)",
      "\u001b[1;32m<ipython-input-9-6f36074d4d29>\u001b[0m in \u001b[0;36m<module>\u001b[1;34m\u001b[0m\n\u001b[1;32m----> 1\u001b[1;33m \u001b[0mgreet\u001b[0m\u001b[1;33m(\u001b[0m\u001b[1;34m\"Everyone\"\u001b[0m\u001b[1;33m)\u001b[0m\u001b[1;33m\u001b[0m\u001b[1;33m\u001b[0m\u001b[0m\n\u001b[0m",
      "\u001b[1;31mTypeError\u001b[0m: greet() missing 1 required positional argument: 'greeting'"
     ]
    }
   ],
   "source": [
    "greet(\"Everyone\")"
   ]
  },
  {
   "cell_type": "markdown",
   "metadata": {},
   "source": [
    "# Function with Default Parameters Example"
   ]
  },
  {
   "cell_type": "code",
   "execution_count": 12,
   "metadata": {},
   "outputs": [],
   "source": [
    "# Function with default Parameters\n",
    "\n",
    "def greet(name, greeting=\"Hello\"):\n",
    "    print(\"{}, {}\".format(greeting,name))"
   ]
  },
  {
   "cell_type": "code",
   "execution_count": 14,
   "metadata": {},
   "outputs": [
    {
     "name": "stdout",
     "output_type": "stream",
     "text": [
      "Hello, Punit\n",
      "Good Morning, Everyone\n"
     ]
    }
   ],
   "source": [
    "greet(\"Punit\")\n",
    "greet(\"Everyone\",\"Good Morning\")"
   ]
  },
  {
   "cell_type": "code",
   "execution_count": 15,
   "metadata": {},
   "outputs": [
    {
     "name": "stdout",
     "output_type": "stream",
     "text": [
      "I am from Sweden\n",
      "I am from India\n",
      "I am from Brazil\n"
     ]
    }
   ],
   "source": [
    "# Another Example\n",
    "\n",
    "def my_function(country = \"India\"):\n",
    "    print(\"I am from \" + country)\n",
    "\n",
    "my_function(\"Sweden\")\n",
    "my_function()\n",
    "my_function(\"Brazil\")"
   ]
  },
  {
   "cell_type": "markdown",
   "metadata": {},
   "source": [
    "# Passing other DataStructures as Parameter Example"
   ]
  },
  {
   "cell_type": "code",
   "execution_count": 25,
   "metadata": {},
   "outputs": [
    {
     "name": "stdout",
     "output_type": "stream",
     "text": [
      "<class 'range'>\n",
      "0\n",
      "1\n",
      "2\n",
      "3\n",
      "4\n",
      "5\n",
      "6\n",
      "7\n",
      "8\n",
      "9\n"
     ]
    }
   ],
   "source": [
    "# You can send any data types of argument to a function (string, number, list, dictionary etc.), \n",
    "#and it will be treated as the same data type inside the function.\n",
    "\n",
    "\n",
    "def print_numbers(nums):\n",
    "    \"\"\"\n",
    "    This function takes list of numbers and Prints it\n",
    "    \"\"\"\n",
    "    for i in nums:\n",
    "        print(i)\n",
    "\n",
    "\n",
    "# List of numbers        \n",
    "lst = range(10)\n",
    "print(type(lst))\n",
    "print_numbers(lst)"
   ]
  },
  {
   "cell_type": "code",
   "execution_count": null,
   "metadata": {},
   "outputs": [],
   "source": []
  },
  {
   "cell_type": "code",
   "execution_count": null,
   "metadata": {},
   "outputs": [],
   "source": []
  },
  {
   "cell_type": "code",
   "execution_count": null,
   "metadata": {},
   "outputs": [],
   "source": []
  },
  {
   "cell_type": "code",
   "execution_count": 26,
   "metadata": {},
   "outputs": [
    {
     "name": "stdout",
     "output_type": "stream",
     "text": [
      "<class 'list'>\n",
      "apple\n",
      "banana\n",
      "cherry\n"
     ]
    }
   ],
   "source": [
    "# List of fruits\n",
    "lst = [\"apple\", \"banana\", \"cherry\"]\n",
    "print(type(lst))\n",
    "temp = print_numbers(lst)"
   ]
  },
  {
   "cell_type": "code",
   "execution_count": null,
   "metadata": {},
   "outputs": [],
   "source": []
  },
  {
   "cell_type": "markdown",
   "metadata": {},
   "source": [
    "# The return statement"
   ]
  },
  {
   "cell_type": "markdown",
   "metadata": {},
   "source": [
    "## The return statement is used to exit a function and go back to the place from where it was called.\n",
    "\n",
    "## Syntax is return [expression_list]"
   ]
  },
  {
   "cell_type": "code",
   "execution_count": 18,
   "metadata": {},
   "outputs": [],
   "source": [
    "# Simple Example\n",
    "\n",
    "def sum_two_numbers(a, b,c,d,e,f):\n",
    "    return a + b + c + d + e + f"
   ]
  },
  {
   "cell_type": "code",
   "execution_count": 15,
   "metadata": {},
   "outputs": [
    {
     "name": "stdout",
     "output_type": "stream",
     "text": [
      "300\n"
     ]
    }
   ],
   "source": [
    "sum_two_numbers(100,200)"
   ]
  },
  {
   "cell_type": "code",
   "execution_count": 19,
   "metadata": {},
   "outputs": [
    {
     "name": "stdout",
     "output_type": "stream",
     "text": [
      "300\n",
      "No Error\n"
     ]
    }
   ],
   "source": [
    "result = sum_two_numbers(100,200)\n",
    "print(result)\n",
    "if result <= 0:\n",
    "    print(\"Error\")\n",
    "else:\n",
    "    print(\"No Error\")"
   ]
  },
  {
   "cell_type": "code",
   "execution_count": 19,
   "metadata": {},
   "outputs": [
    {
     "data": {
      "text/plain": [
       "300"
      ]
     },
     "execution_count": 19,
     "metadata": {},
     "output_type": "execute_result"
    }
   ],
   "source": [
    "sum_two_numbers(100,200)"
   ]
  },
  {
   "cell_type": "code",
   "execution_count": 22,
   "metadata": {},
   "outputs": [],
   "source": [
    "# Another Example\n",
    "\n",
    "def odd_even(num):\n",
    "    \"\"\"\n",
    "    This function takes the num as argument\n",
    "    and returns if number is ODD or EVEN\n",
    "    \"\"\"\n",
    "    \n",
    "    if num%2==0:\n",
    "        return \"Provided number is EVEN\"\n",
    "    else:\n",
    "        return \"Provided number is ODD\""
   ]
  },
  {
   "cell_type": "code",
   "execution_count": 23,
   "metadata": {},
   "outputs": [
    {
     "name": "stdout",
     "output_type": "stream",
     "text": [
      "Provided number is ODD\n"
     ]
    }
   ],
   "source": [
    "result = odd_even(11)\n",
    "print(result)"
   ]
  },
  {
   "cell_type": "code",
   "execution_count": 24,
   "metadata": {},
   "outputs": [
    {
     "name": "stdout",
     "output_type": "stream",
     "text": [
      "Provided number is EVEN\n"
     ]
    }
   ],
   "source": [
    "result = odd_even(100)\n",
    "print(result)"
   ]
  },
  {
   "cell_type": "markdown",
   "metadata": {},
   "source": [
    "# Arbitrary Arguments, *args"
   ]
  },
  {
   "cell_type": "markdown",
   "metadata": {},
   "source": [
    "## If you do not know how many arguments that will be passed into your function, add a * before the parameter name in the function definition.\n",
    "\n",
    "## This way the function will receive a tuple of arguments, and can access the items accordingly:"
   ]
  },
  {
   "cell_type": "code",
   "execution_count": 25,
   "metadata": {},
   "outputs": [],
   "source": [
    "def sample_fun(*args):\n",
    "    for i in args:\n",
    "        print(i)"
   ]
  },
  {
   "cell_type": "code",
   "execution_count": 26,
   "metadata": {},
   "outputs": [
    {
     "name": "stdout",
     "output_type": "stream",
     "text": [
      "1\n",
      "2\n",
      "3\n",
      "4\n",
      "5\n"
     ]
    }
   ],
   "source": [
    "sample_fun(1,2,3,4,5)"
   ]
  },
  {
   "cell_type": "code",
   "execution_count": 27,
   "metadata": {},
   "outputs": [
    {
     "name": "stdout",
     "output_type": "stream",
     "text": [
      "1\n",
      "3\n"
     ]
    }
   ],
   "source": [
    "sample_fun(1,3)"
   ]
  },
  {
   "cell_type": "markdown",
   "metadata": {},
   "source": [
    "# Method Overriding Example"
   ]
  },
  {
   "cell_type": "code",
   "execution_count": 20,
   "metadata": {},
   "outputs": [
    {
     "name": "stdout",
     "output_type": "stream",
     "text": [
      "Inside Parent\n",
      "I am overridden Method\n",
      "Inside Child\n"
     ]
    }
   ],
   "source": [
    "# Python program to demonstrate  \n",
    "# method overriding \n",
    "# Defining parent class \n",
    "\n",
    "class Parent(): \n",
    "      \n",
    "    # Constructor \n",
    "    def __init__(self): \n",
    "        self.value = \"Inside Parent\"\n",
    "          \n",
    "    # Parent's show method \n",
    "    def show(self): \n",
    "        print(self.value) \n",
    "          \n",
    "# Defining child class \n",
    "class Child(Parent): \n",
    "      \n",
    "    # Constructor \n",
    "    def __init__(self): \n",
    "        self.value = \"Inside Child\"\n",
    "          \n",
    "    # Child's show method \n",
    "    def show(self): \n",
    "        print(\"I am overridden Method\")\n",
    "        print(self.value) \n",
    "          \n",
    "obj1 = Parent() \n",
    "obj2 = Child() \n",
    "  \n",
    "obj1.show() \n",
    "obj2.show() "
   ]
  },
  {
   "cell_type": "markdown",
   "metadata": {},
   "source": [
    "# Method Overloading Example"
   ]
  },
  {
   "cell_type": "markdown",
   "metadata": {},
   "source": [
    "## Python does not supports method overloading by default. \n",
    "## But there are different ways to achieve method overloading in Python."
   ]
  },
  {
   "cell_type": "markdown",
   "metadata": {},
   "source": [
    "## The problem with method overloading in Python is that we may overload the methods but can only use the latest defined method."
   ]
  },
  {
   "cell_type": "code",
   "execution_count": 21,
   "metadata": {},
   "outputs": [
    {
     "ename": "TypeError",
     "evalue": "product() missing 1 required positional argument: 'c'",
     "output_type": "error",
     "traceback": [
      "\u001b[1;31m---------------------------------------------------------------------------\u001b[0m",
      "\u001b[1;31mTypeError\u001b[0m                                 Traceback (most recent call last)",
      "\u001b[1;32m<ipython-input-21-82de19210e89>\u001b[0m in \u001b[0;36m<module>\u001b[1;34m\u001b[0m\n\u001b[0;32m     14\u001b[0m \u001b[1;33m\u001b[0m\u001b[0m\n\u001b[0;32m     15\u001b[0m \u001b[1;31m#Uncommenting the below line shows an error\u001b[0m\u001b[1;33m\u001b[0m\u001b[1;33m\u001b[0m\u001b[1;33m\u001b[0m\u001b[0m\n\u001b[1;32m---> 16\u001b[1;33m \u001b[0mproduct\u001b[0m\u001b[1;33m(\u001b[0m\u001b[1;36m4\u001b[0m\u001b[1;33m,\u001b[0m \u001b[1;36m5\u001b[0m\u001b[1;33m)\u001b[0m\u001b[1;33m\u001b[0m\u001b[1;33m\u001b[0m\u001b[0m\n\u001b[0m\u001b[0;32m     17\u001b[0m \u001b[1;33m\u001b[0m\u001b[0m\n\u001b[0;32m     18\u001b[0m \u001b[1;31m# This line will call the second product method\u001b[0m\u001b[1;33m\u001b[0m\u001b[1;33m\u001b[0m\u001b[1;33m\u001b[0m\u001b[0m\n",
      "\u001b[1;31mTypeError\u001b[0m: product() missing 1 required positional argument: 'c'"
     ]
    }
   ],
   "source": [
    "# First product method. \n",
    "# Takes two argument and print their product\n",
    "\n",
    "\n",
    "def product(a, b): \n",
    "    p = a * b \n",
    "    print(p) \n",
    "      \n",
    "# Second product method \n",
    "# Takes three argument and print their product \n",
    "def product(a, b, c): \n",
    "    p = a * b*c \n",
    "    print(p) \n",
    "  \n",
    "#Uncommenting the below line shows an error     \n",
    "product(4, 5) \n",
    "  \n",
    "# This line will call the second product method \n",
    "#product(4, 5, 5)"
   ]
  },
  {
   "cell_type": "markdown",
   "metadata": {},
   "source": [
    "# Solution - 1"
   ]
  },
  {
   "cell_type": "code",
   "execution_count": 28,
   "metadata": {},
   "outputs": [
    {
     "ename": "SyntaxError",
     "evalue": "invalid syntax (<ipython-input-28-9b75d5c440ba>, line 3)",
     "output_type": "error",
     "traceback": [
      "\u001b[1;36m  File \u001b[1;32m\"<ipython-input-28-9b75d5c440ba>\"\u001b[1;36m, line \u001b[1;32m3\u001b[0m\n\u001b[1;33m    def add(datatype, [*args]):\u001b[0m\n\u001b[1;37m                      ^\u001b[0m\n\u001b[1;31mSyntaxError\u001b[0m\u001b[1;31m:\u001b[0m invalid syntax\n"
     ]
    }
   ],
   "source": [
    "# Function to take multiple arguments\n",
    "\n",
    "def add(datatype,*args): \n",
    "  \n",
    "    print(type(args))\n",
    "    \n",
    "    # if datatype is int then initialize answer as 0 \n",
    "    if datatype =='int': \n",
    "        answer = 0\n",
    "          \n",
    "    # if datatype is str then initialize answer as '' \n",
    "    if datatype =='str': \n",
    "        answer ='' \n",
    "  \n",
    "    # Traverse through the arguments \n",
    "    for x in args: \n",
    "        # This will do addition if the arguments are in Or concatenation if the arguments are str \n",
    "        answer = answer + x \n",
    "    print(answer) \n",
    "    \n",
    "    \n",
    "    \n",
    "# Integer \n",
    "add('int', 5, 6,10,15) \n",
    "# String \n",
    "add('str', 'Hi ', 'Geeks') "
   ]
  },
  {
   "cell_type": "markdown",
   "metadata": {},
   "source": [
    "# Class - Example"
   ]
  },
  {
   "cell_type": "code",
   "execution_count": 37,
   "metadata": {},
   "outputs": [],
   "source": [
    "class MyNewClass():\n",
    "    '''This is a docstring. I have created a new class'''\n",
    "    pass"
   ]
  },
  {
   "cell_type": "code",
   "execution_count": 38,
   "metadata": {},
   "outputs": [],
   "source": [
    "obj1 = MyNewClass()"
   ]
  },
  {
   "cell_type": "code",
   "execution_count": 39,
   "metadata": {},
   "outputs": [
    {
     "name": "stdout",
     "output_type": "stream",
     "text": [
      "This is a docstring. I have created a new class\n"
     ]
    }
   ],
   "source": [
    "print(obj1.__doc__)"
   ]
  },
  {
   "cell_type": "markdown",
   "metadata": {},
   "source": [
    "# 'Self' - Example"
   ]
  },
  {
   "cell_type": "code",
   "execution_count": 29,
   "metadata": {},
   "outputs": [
    {
     "name": "stdout",
     "output_type": "stream",
     "text": [
      "Hello\n",
      "Hello\n"
     ]
    }
   ],
   "source": [
    "class Person():\n",
    "    \"This is a person class\"\n",
    "    age = 10\n",
    "\n",
    "    def greet(self):\n",
    "        print('Hello')\n",
    "\n",
    "\n",
    "# create a new object of Person class\n",
    "harry = Person()\n",
    "\n",
    "harry.greet() # This is equivalent to Person.greet(harry)\n",
    "Person.greet(harry)"
   ]
  },
  {
   "cell_type": "markdown",
   "metadata": {},
   "source": [
    "# Constructor OR __init__() Example"
   ]
  },
  {
   "cell_type": "code",
   "execution_count": 53,
   "metadata": {},
   "outputs": [
    {
     "name": "stdout",
     "output_type": "stream",
     "text": [
      "2+3j\n"
     ]
    }
   ],
   "source": [
    "class ComplexNumber():\n",
    "    \n",
    "    def __init__(self, r=0, i=0):\n",
    "        self.real = r\n",
    "        self.imag = i\n",
    "\n",
    "    def get_data(self):\n",
    "        print(f'{self.real}+{self.imag}j')\n",
    "\n",
    "# Create a new ComplexNumber object\n",
    "num1 = ComplexNumber(2, 3)\n",
    "num1.get_data()"
   ]
  },
  {
   "cell_type": "code",
   "execution_count": 31,
   "metadata": {},
   "outputs": [],
   "source": [
    "# Another Example\n",
    "\n",
    "class sample():\n",
    "    \n",
    "    def __init__(self):\n",
    "        print(\"New Object is created\")"
   ]
  },
  {
   "cell_type": "code",
   "execution_count": 32,
   "metadata": {},
   "outputs": [
    {
     "name": "stdout",
     "output_type": "stream",
     "text": [
      "New Object is created\n"
     ]
    }
   ],
   "source": [
    "t1 = sample()"
   ]
  },
  {
   "cell_type": "code",
   "execution_count": 33,
   "metadata": {},
   "outputs": [
    {
     "name": "stdout",
     "output_type": "stream",
     "text": [
      "New Object is created\n"
     ]
    }
   ],
   "source": [
    "t2 = sample()"
   ]
  },
  {
   "cell_type": "code",
   "execution_count": 34,
   "metadata": {},
   "outputs": [],
   "source": [
    "# One more Example\n",
    "\n",
    "class sample():\n",
    "\n",
    "    def __init__(self,name):\n",
    "        self.name = name\n",
    "        print(\"New Object is created and Now I will call UDF\")\n",
    "        self.print_name(name)\n",
    "            \n",
    "    def print_name(self,name):\n",
    "        print(\"Hello\",self.name)"
   ]
  },
  {
   "cell_type": "code",
   "execution_count": 71,
   "metadata": {},
   "outputs": [
    {
     "name": "stdout",
     "output_type": "stream",
     "text": [
      "New Object is created and Now I will call UDF\n",
      "Hello Students\n"
     ]
    }
   ],
   "source": [
    "t2 = sample(\"Students\")"
   ]
  },
  {
   "cell_type": "code",
   "execution_count": 72,
   "metadata": {},
   "outputs": [
    {
     "name": "stdout",
     "output_type": "stream",
     "text": [
      "New Object is created and Now I will call UDF\n",
      "Hello Rakesh\n"
     ]
    }
   ],
   "source": [
    "t3 = sample(\"Rakesh\")"
   ]
  },
  {
   "cell_type": "code",
   "execution_count": 73,
   "metadata": {},
   "outputs": [
    {
     "name": "stdout",
     "output_type": "stream",
     "text": [
      "New Object is created and Now I will call UDF\n",
      "Hello Punit\n"
     ]
    }
   ],
   "source": [
    "# Delete an object\n",
    "\n",
    "t4 = sample(\"Punit\")"
   ]
  },
  {
   "cell_type": "code",
   "execution_count": 74,
   "metadata": {},
   "outputs": [],
   "source": [
    "del t4"
   ]
  },
  {
   "cell_type": "code",
   "execution_count": 75,
   "metadata": {},
   "outputs": [
    {
     "ename": "NameError",
     "evalue": "name 't4' is not defined",
     "output_type": "error",
     "traceback": [
      "\u001b[1;31m---------------------------------------------------------------------------\u001b[0m",
      "\u001b[1;31mNameError\u001b[0m                                 Traceback (most recent call last)",
      "\u001b[1;32m<ipython-input-75-7e8198522aa2>\u001b[0m in \u001b[0;36m<module>\u001b[1;34m\u001b[0m\n\u001b[1;32m----> 1\u001b[1;33m \u001b[0mt4\u001b[0m\u001b[1;33m\u001b[0m\u001b[1;33m\u001b[0m\u001b[0m\n\u001b[0m",
      "\u001b[1;31mNameError\u001b[0m: name 't4' is not defined"
     ]
    }
   ],
   "source": [
    "t4"
   ]
  },
  {
   "cell_type": "markdown",
   "metadata": {},
   "source": [
    "# Type Conversion Example"
   ]
  },
  {
   "cell_type": "markdown",
   "metadata": {},
   "source": [
    "## Implicit Type Conversion Example"
   ]
  },
  {
   "cell_type": "raw",
   "metadata": {},
   "source": [
    "Let's see an example where Python promotes the conversion of the lower data type (integer) to the higher data type (float)\n",
    "to avoid data loss."
   ]
  },
  {
   "cell_type": "code",
   "execution_count": 76,
   "metadata": {},
   "outputs": [
    {
     "name": "stdout",
     "output_type": "stream",
     "text": [
      "datatype of num_int: <class 'int'>\n",
      "datatype of num_flo: <class 'float'>\n",
      "Value of num_new: 124.23\n",
      "datatype of num_new: <class 'float'>\n"
     ]
    }
   ],
   "source": [
    "num_int = 123\n",
    "num_flo = 1.23\n",
    "\n",
    "num_new = num_int + num_flo\n",
    "\n",
    "print(\"datatype of num_int:\",type(num_int))\n",
    "print(\"datatype of num_flo:\",type(num_flo))\n",
    "\n",
    "print(\"Value of num_new:\",num_new)\n",
    "print(\"datatype of num_new:\",type(num_new))"
   ]
  },
  {
   "cell_type": "code",
   "execution_count": 78,
   "metadata": {},
   "outputs": [
    {
     "name": "stdout",
     "output_type": "stream",
     "text": [
      "Data type of num_int: <class 'int'>\n",
      "Data type of num_str: <class 'str'>\n"
     ]
    },
    {
     "ename": "TypeError",
     "evalue": "unsupported operand type(s) for +: 'int' and 'str'",
     "output_type": "error",
     "traceback": [
      "\u001b[1;31m---------------------------------------------------------------------------\u001b[0m",
      "\u001b[1;31mTypeError\u001b[0m                                 Traceback (most recent call last)",
      "\u001b[1;32m<ipython-input-78-e4e801a785a8>\u001b[0m in \u001b[0;36m<module>\u001b[1;34m\u001b[0m\n\u001b[0;32m      7\u001b[0m \u001b[0mprint\u001b[0m\u001b[1;33m(\u001b[0m\u001b[1;34m\"Data type of num_str:\"\u001b[0m\u001b[1;33m,\u001b[0m\u001b[0mtype\u001b[0m\u001b[1;33m(\u001b[0m\u001b[0mnum_str\u001b[0m\u001b[1;33m)\u001b[0m\u001b[1;33m)\u001b[0m\u001b[1;33m\u001b[0m\u001b[1;33m\u001b[0m\u001b[0m\n\u001b[0;32m      8\u001b[0m \u001b[1;33m\u001b[0m\u001b[0m\n\u001b[1;32m----> 9\u001b[1;33m \u001b[0mprint\u001b[0m\u001b[1;33m(\u001b[0m\u001b[0mnum_int\u001b[0m\u001b[1;33m+\u001b[0m\u001b[0mnum_str\u001b[0m\u001b[1;33m)\u001b[0m\u001b[1;33m\u001b[0m\u001b[1;33m\u001b[0m\u001b[0m\n\u001b[0m",
      "\u001b[1;31mTypeError\u001b[0m: unsupported operand type(s) for +: 'int' and 'str'"
     ]
    }
   ],
   "source": [
    "#Addition of string(higher) data type and integer(lower) datatype\n",
    "\n",
    "num_int = 123\n",
    "num_str = \"456\"\n",
    "\n",
    "print(\"Data type of num_int:\",type(num_int))\n",
    "print(\"Data type of num_str:\",type(num_str))\n",
    "\n",
    "print(num_int+num_str)"
   ]
  },
  {
   "cell_type": "markdown",
   "metadata": {},
   "source": [
    "# Explicit Type Conversion Example"
   ]
  },
  {
   "cell_type": "raw",
   "metadata": {},
   "source": [
    "Syntax :- <required_datatype>(expression)"
   ]
  },
  {
   "cell_type": "code",
   "execution_count": 79,
   "metadata": {},
   "outputs": [
    {
     "name": "stdout",
     "output_type": "stream",
     "text": [
      "Data type of num_int: <class 'int'>\n",
      "Data type of num_str before Type Casting: <class 'str'>\n",
      "Data type of num_str after Type Casting: <class 'int'>\n",
      "Sum of num_int and num_str: 579\n",
      "Data type of the sum: <class 'int'>\n"
     ]
    }
   ],
   "source": [
    "num_int = 123\n",
    "num_str = \"456\"\n",
    "\n",
    "print(\"Data type of num_int:\",type(num_int))\n",
    "print(\"Data type of num_str before Type Casting:\",type(num_str))\n",
    "\n",
    "num_str = int(num_str)\n",
    "print(\"Data type of num_str after Type Casting:\",type(num_str))\n",
    "\n",
    "num_sum = num_int + num_str\n",
    "\n",
    "print(\"Sum of num_int and num_str:\",num_sum)\n",
    "print(\"Data type of the sum:\",type(num_sum))"
   ]
  },
  {
   "cell_type": "code",
   "execution_count": 80,
   "metadata": {},
   "outputs": [
    {
     "name": "stdout",
     "output_type": "stream",
     "text": [
      "From list to tuple: (10, 20, 30, 40, 50)\n",
      "From list to set: {40, 10, 50, 20, 30}\n",
      "From set to list: [10, 20, 50, 30]\n"
     ]
    }
   ],
   "source": [
    "# Another Exmaple with Complex Datatype\n",
    "\n",
    "my_list = [10, 20, 30, 40, 50]\n",
    "my_set = {10, 10, 20, 30, 20, 50, 20}\n",
    "\n",
    "print('From list to tuple: ' + str(tuple(my_list)))\n",
    "print('From list to set: ' + str(set(my_list)))\n",
    "print('From set to list: ' + str(list(my_set)))"
   ]
  },
  {
   "cell_type": "markdown",
   "metadata": {},
   "source": [
    "# Module - Example"
   ]
  },
  {
   "cell_type": "code",
   "execution_count": 83,
   "metadata": {},
   "outputs": [
    {
     "data": {
      "text/plain": [
       "10"
      ]
     },
     "execution_count": 83,
     "metadata": {},
     "output_type": "execute_result"
    }
   ],
   "source": [
    "# This is the way we import Module in Python\n",
    "import Example\n",
    "\n",
    "Example.add(5,5)"
   ]
  },
  {
   "cell_type": "code",
   "execution_count": 84,
   "metadata": {},
   "outputs": [
    {
     "data": {
      "text/plain": [
       "20"
      ]
     },
     "execution_count": 84,
     "metadata": {},
     "output_type": "execute_result"
    }
   ],
   "source": [
    "# Another way to import with rename\n",
    "\n",
    "import Example as ex\n",
    "\n",
    "ex.add(10,10)"
   ]
  },
  {
   "cell_type": "code",
   "execution_count": 85,
   "metadata": {},
   "outputs": [
    {
     "data": {
      "text/plain": [
       "40"
      ]
     },
     "execution_count": 85,
     "metadata": {},
     "output_type": "execute_result"
    }
   ],
   "source": [
    "from Example import add\n",
    "\n",
    "add(20,20)"
   ]
  },
  {
   "cell_type": "markdown",
   "metadata": {},
   "source": [
    "# Exception Handling Example"
   ]
  },
  {
   "cell_type": "markdown",
   "metadata": {},
   "source": [
    "## Try - Catch Example"
   ]
  },
  {
   "cell_type": "code",
   "execution_count": 88,
   "metadata": {},
   "outputs": [
    {
     "name": "stdout",
     "output_type": "stream",
     "text": [
      "The entry is a\n",
      "Oops! <class 'ValueError'> occurred.\n",
      "Next entry.\n",
      "\n",
      "The entry is 0\n",
      "Oops! <class 'ZeroDivisionError'> occurred.\n",
      "Next entry.\n",
      "\n",
      "The entry is 2\n",
      "The reciprocal of 2 is 0.5\n"
     ]
    }
   ],
   "source": [
    "# import module sys to get the type of exception\n",
    "import sys\n",
    "\n",
    "randomList = ['a', 0, 2]\n",
    "\n",
    "for entry in randomList:\n",
    "    try:\n",
    "        print(\"The entry is\", entry)\n",
    "        r = 1/int(entry)\n",
    "    except:\n",
    "        print(\"Oops!\", sys.exc_info()[0], \"occurred.\")\n",
    "        print(\"Next entry.\")\n",
    "        print()\n",
    "print(\"The reciprocal of\", entry, \"is\", r)"
   ]
  },
  {
   "cell_type": "code",
   "execution_count": 36,
   "metadata": {},
   "outputs": [
    {
     "name": "stdout",
     "output_type": "stream",
     "text": [
      "Enter a positive integer: -1\n",
      "That is not a positive number!\n"
     ]
    }
   ],
   "source": [
    "# Another Example \n",
    "\n",
    "try:\n",
    "    a = int(input(\"Enter a positive integer: \"))\n",
    "    if a <= 0:\n",
    "        raise ValueError(\"That is not a positive number!\")\n",
    "except ValueError as ve:\n",
    "    print(ve)"
   ]
  },
  {
   "cell_type": "code",
   "execution_count": 6,
   "metadata": {},
   "outputs": [
    {
     "ename": "KeyboardInterrupt",
     "evalue": "",
     "output_type": "error",
     "traceback": [
      "\u001b[1;31m---------------------------------------------------------------------------\u001b[0m",
      "\u001b[1;31mKeyboardInterrupt\u001b[0m                         Traceback (most recent call last)",
      "\u001b[1;32m<ipython-input-6-c761920b81b0>\u001b[0m in \u001b[0;36m<module>\u001b[1;34m\u001b[0m\n\u001b[1;32m----> 1\u001b[1;33m \u001b[1;32mraise\u001b[0m \u001b[0mKeyboardInterrupt\u001b[0m\u001b[1;33m\u001b[0m\u001b[1;33m\u001b[0m\u001b[0m\n\u001b[0m",
      "\u001b[1;31mKeyboardInterrupt\u001b[0m: "
     ]
    }
   ],
   "source": [
    "raise KeyboardInterrupt"
   ]
  },
  {
   "cell_type": "code",
   "execution_count": 7,
   "metadata": {},
   "outputs": [
    {
     "ename": "MemoryError",
     "evalue": "This is urgent",
     "output_type": "error",
     "traceback": [
      "\u001b[1;31m---------------------------------------------------------------------------\u001b[0m",
      "\u001b[1;31mMemoryError\u001b[0m                               Traceback (most recent call last)",
      "\u001b[1;32m<ipython-input-7-1b867d1bbc7f>\u001b[0m in \u001b[0;36m<module>\u001b[1;34m\u001b[0m\n\u001b[1;32m----> 1\u001b[1;33m \u001b[1;32mraise\u001b[0m \u001b[0mMemoryError\u001b[0m\u001b[1;33m(\u001b[0m\u001b[1;34m\"This is urgent\"\u001b[0m\u001b[1;33m)\u001b[0m\u001b[1;33m\u001b[0m\u001b[1;33m\u001b[0m\u001b[0m\n\u001b[0m",
      "\u001b[1;31mMemoryError\u001b[0m: This is urgent"
     ]
    }
   ],
   "source": [
    "raise MemoryError(\"This is urgent\")"
   ]
  },
  {
   "cell_type": "markdown",
   "metadata": {},
   "source": [
    "# Finally Example"
   ]
  },
  {
   "cell_type": "code",
   "execution_count": 40,
   "metadata": {},
   "outputs": [
    {
     "name": "stdout",
     "output_type": "stream",
     "text": [
      "No such file or directory\n",
      "I am in Finally Clause\n"
     ]
    }
   ],
   "source": [
    "try:\n",
    "    f = open(\"test.txt\",encoding = 'utf-8')\n",
    "except FileNotFoundError as FE:\n",
    "    print(FE.strerror)\n",
    "except ZeroDivisionError as ZE:\n",
    "    print(ZE.strerror)\n",
    "finally:\n",
    "    print(\"I am in Finally Clause\")"
   ]
  },
  {
   "cell_type": "code",
   "execution_count": null,
   "metadata": {},
   "outputs": [],
   "source": []
  },
  {
   "cell_type": "markdown",
   "metadata": {},
   "source": [
    "# File Handling Example"
   ]
  },
  {
   "cell_type": "markdown",
   "metadata": {},
   "source": [
    "## File Reading Example"
   ]
  },
  {
   "cell_type": "code",
   "execution_count": 101,
   "metadata": {},
   "outputs": [
    {
     "name": "stdout",
     "output_type": "stream",
     "text": [
      "Welcome to class\n",
      "\n",
      "This is demo file\n"
     ]
    }
   ],
   "source": [
    "# Open file with Mode\n",
    "\n",
    "# a file named \"geek\", will be opened with the reading mode. \n",
    "file = open('sample.txt',\"r\") \n",
    "\n",
    "# This will print every line one by one in the file \n",
    "for line in file: \n",
    "    print(line)"
   ]
  },
  {
   "cell_type": "code",
   "execution_count": 102,
   "metadata": {},
   "outputs": [
    {
     "name": "stdout",
     "output_type": "stream",
     "text": [
      "Welcome to class\n",
      "This is demo file\n"
     ]
    }
   ],
   "source": [
    "# There is more than one way to read a file in Python. \n",
    "# If you need to extract a string that contains all characters in the file then we can use file.read(). \n",
    "\n",
    "# Python code to illustrate read() mode \n",
    "file = open(\"sample.txt\", \"r\")  \n",
    "print(file.read())"
   ]
  },
  {
   "cell_type": "code",
   "execution_count": 105,
   "metadata": {},
   "outputs": [
    {
     "name": "stdout",
     "output_type": "stream",
     "text": [
      "['Welcome to class\\n', 'This is demo file']\n"
     ]
    },
    {
     "data": {
      "text/plain": [
       "list"
      ]
     },
     "execution_count": 105,
     "metadata": {},
     "output_type": "execute_result"
    }
   ],
   "source": [
    "# Read contents in list\n",
    "\n",
    "file = open(\"sample.txt\",\"r\")\n",
    "lines = file.readlines()\n",
    "\n",
    "print(lines)\n",
    "type(lines)"
   ]
  },
  {
   "cell_type": "code",
   "execution_count": 41,
   "metadata": {},
   "outputs": [
    {
     "ename": "FileNotFoundError",
     "evalue": "[Errno 2] No such file or directory: 'sample-1.txt'",
     "output_type": "error",
     "traceback": [
      "\u001b[1;31m---------------------------------------------------------------------------\u001b[0m",
      "\u001b[1;31mFileNotFoundError\u001b[0m                         Traceback (most recent call last)",
      "\u001b[1;32m<ipython-input-41-0ca5eb2da44f>\u001b[0m in \u001b[0;36m<module>\u001b[1;34m\u001b[0m\n\u001b[0;32m      2\u001b[0m \u001b[1;31m# Read only certain number of characters\u001b[0m\u001b[1;33m\u001b[0m\u001b[1;33m\u001b[0m\u001b[1;33m\u001b[0m\u001b[0m\n\u001b[0;32m      3\u001b[0m \u001b[1;33m\u001b[0m\u001b[0m\n\u001b[1;32m----> 4\u001b[1;33m \u001b[0mfile\u001b[0m \u001b[1;33m=\u001b[0m \u001b[0mopen\u001b[0m\u001b[1;33m(\u001b[0m\u001b[1;34m\"sample-1.txt\"\u001b[0m\u001b[1;33m,\u001b[0m \u001b[1;34m\"r\"\u001b[0m\u001b[1;33m)\u001b[0m\u001b[1;33m\u001b[0m\u001b[1;33m\u001b[0m\u001b[0m\n\u001b[0m\u001b[0;32m      5\u001b[0m \u001b[0mprint\u001b[0m\u001b[1;33m(\u001b[0m\u001b[0mfile\u001b[0m\u001b[1;33m.\u001b[0m\u001b[0mread\u001b[0m\u001b[1;33m(\u001b[0m\u001b[1;36m5\u001b[0m\u001b[1;33m)\u001b[0m\u001b[1;33m)\u001b[0m\u001b[1;33m\u001b[0m\u001b[1;33m\u001b[0m\u001b[0m\n",
      "\u001b[1;31mFileNotFoundError\u001b[0m: [Errno 2] No such file or directory: 'sample-1.txt'"
     ]
    }
   ],
   "source": [
    "# Python code to illustrate read() mode character wise\n",
    "# Read only certain number of characters\n",
    "\n",
    "file = open(\"sample-1.txt\", \"r\") \n",
    "print(file.read(5))"
   ]
  },
  {
   "cell_type": "markdown",
   "metadata": {},
   "source": [
    "## File creating Example"
   ]
  },
  {
   "cell_type": "code",
   "execution_count": 42,
   "metadata": {},
   "outputs": [],
   "source": [
    "# Lets see how to create file\n",
    "\n",
    "file = open('sample-1.txt','w') \n",
    "\n",
    "file.write(\"This is the write command\") \n",
    "file.write(\"It allows us to write in a particular file\")\n",
    "\n",
    "file.close()"
   ]
  },
  {
   "cell_type": "code",
   "execution_count": 107,
   "metadata": {},
   "outputs": [],
   "source": [
    "# Python code to illustrate append() mode \n",
    "\n",
    "file = open('geek.txt','a') \n",
    "file.write(\"This will add this line\") \n",
    "file.close() "
   ]
  },
  {
   "cell_type": "markdown",
   "metadata": {},
   "source": [
    "# WITH Example"
   ]
  },
  {
   "cell_type": "code",
   "execution_count": 108,
   "metadata": {},
   "outputs": [
    {
     "name": "stdout",
     "output_type": "stream",
     "text": [
      "WELCOME TO CLASS\n",
      "THIS IS DEMO FILE\n"
     ]
    }
   ],
   "source": [
    "# Python code to illustrate with() \n",
    "\n",
    "with open(\"sample.txt\") as file:   \n",
    "    data = file.read()\n",
    "    # do something with data \n",
    "    print(data.upper())"
   ]
  },
  {
   "cell_type": "code",
   "execution_count": 111,
   "metadata": {},
   "outputs": [
    {
     "name": "stdout",
     "output_type": "stream",
     "text": [
      "['Welcome', 'to', 'class']\n",
      "['This', 'is', 'demo', 'file']\n"
     ]
    }
   ],
   "source": [
    "# Python code to illustrate split() function \n",
    "\n",
    "with open(\"sample.txt\", \"r\") as file: \n",
    "    data = file.readlines() \n",
    "    for line in data:\n",
    "        word = line.split() \n",
    "        print(word)"
   ]
  },
  {
   "cell_type": "code",
   "execution_count": null,
   "metadata": {},
   "outputs": [],
   "source": []
  }
 ],
 "metadata": {
  "kernelspec": {
   "display_name": "Python 3",
   "language": "python",
   "name": "python3"
  },
  "language_info": {
   "codemirror_mode": {
    "name": "ipython",
    "version": 3
   },
   "file_extension": ".py",
   "mimetype": "text/x-python",
   "name": "python",
   "nbconvert_exporter": "python",
   "pygments_lexer": "ipython3",
   "version": "3.8.3"
  }
 },
 "nbformat": 4,
 "nbformat_minor": 4
}
